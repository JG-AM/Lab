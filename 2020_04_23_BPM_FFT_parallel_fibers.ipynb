{
 "cells": [
  {
   "cell_type": "markdown",
   "metadata": {},
   "source": [
    "I am going to simulate a fiber coupler that consist in two parallel fibers with the Beam Propagation Method using fast Fourier transforms."
   ]
  },
  {
   "cell_type": "code",
   "execution_count": 2,
   "metadata": {},
   "outputs": [],
   "source": [
    "%matplotlib inline\n",
    "import matplotlib.pyplot as plt # libreria para generar graficas\n",
    "import numpy as np #libreria númerica que da superpoderes para importar y manipular numeros\n",
    "from math import hypot as hyp"
   ]
  },
  {
   "cell_type": "code",
   "execution_count": 78,
   "metadata": {},
   "outputs": [],
   "source": [
    "# I define a function for the index of refraction of two identical parallel fibers\n",
    "def index_parallel_fibers(x,y,r,R,n_r,n_R,d):\n",
    "    #x,y are the positions\n",
    "    #r is the radius of the core\n",
    "    #R is the radius of the cladding\n",
    "    #n_r the index of the core\n",
    "    #n_R the index of the cladding\n",
    "    #d the distance between the fibers\n",
    "    n_air=1.00029\n",
    "    \n",
    "#The center of the coordinate system is the center of one fibers, and the other fiber is centered in\n",
    "#x=2R+d , y=0\n",
    "    c_fiber=2*R+d\n",
    "    r_d=np.hypot(x,y) #distance from the center of the first fiber\n",
    "    r_d_2=np.hypot(x-c_fiber,y) #distance from the center of the second fiber\n",
    "    if r_d<=R:\n",
    "        if r_d<=r:\n",
    "            n=n_r\n",
    "        else:\n",
    "            n=n_R\n",
    "    elif r_d_2<=R:\n",
    "        if r_d_2<=r:\n",
    "            n=n_r\n",
    "        else:\n",
    "            n=n_R\n",
    "    else:\n",
    "        n=n_air\n",
    "    return n          "
   ]
  },
  {
   "cell_type": "markdown",
   "metadata": {},
   "source": [
    "I check that it works. I took the parametrs from [Evanescent field coupling ...](https://www.researchgate.net/publication/221828819_Evanescent_field_coupling_between_two_parallel_close_contact_SMS_fiber_structures)"
   ]
  },
  {
   "cell_type": "code",
   "execution_count": 35,
   "metadata": {},
   "outputs": [],
   "source": [
    "r=50e-6\n",
    "R=125e-6\n",
    "n_r=1.446\n",
    "n_R=1.4271\n",
    "d=2e-6"
   ]
  },
  {
   "cell_type": "markdown",
   "metadata": {},
   "source": [
    "I am going to work in adimensional units, every distance parameter is going to be rescaled by the radius of the core. The parameters in the Fourier space are going to be rescaled by the inverse of the radius."
   ]
  },
  {
   "cell_type": "code",
   "execution_count": 120,
   "metadata": {},
   "outputs": [],
   "source": [
    "Ra=R/r\n",
    "da=d/r\n",
    "ra=1\n",
    "wavelength=1550e-9\n",
    "k=2*np.pi/wavelength\n",
    "ka=k*r\n",
    "W=20 #I am going to simulate a rectangular region of 20x20 radius^2\n",
    "N=512 #Number of divisions in one axis of the simulated region\n",
    "step=W/N"
   ]
  },
  {
   "cell_type": "code",
   "execution_count": 79,
   "metadata": {},
   "outputs": [],
   "source": [
    "left_border=Ra+da/2-W/2\n",
    "upper_border=W/2\n",
    "region=np.zeros((N,N))\n",
    "for i in range(N):\n",
    "    for j in range(N):\n",
    "        x=left_border+i*step\n",
    "        y=upper_border-j*step\n",
    "        region[j,i]=index_parallel_fibers(x,y,ra,Ra,n_r,n_R,da)\n",
    "        "
   ]
  },
  {
   "cell_type": "markdown",
   "metadata": {},
   "source": [
    "I present the index of the simulated region."
   ]
  },
  {
   "cell_type": "code",
   "execution_count": 80,
   "metadata": {},
   "outputs": [
    {
     "data": {
      "text/plain": [
       "<matplotlib.colorbar.Colorbar at 0x145da6ad828>"
      ]
     },
     "execution_count": 80,
     "metadata": {},
     "output_type": "execute_result"
    },
    {
     "data": {
      "image/png": "[encoded data removed]",
      "text/plain": [
       "<Figure size 432x288 with 2 Axes>"
      ]
     },
     "metadata": {
      "needs_background": "light"
     },
     "output_type": "display_data"
    }
   ],
   "source": [
    "plt.imshow(region)\n",
    "plt.colorbar()"
   ]
  },
  {
   "cell_type": "markdown",
   "metadata": {},
   "source": [
    "I prepare a Gaussian beam, that it is incident in the fiber at the left. First I define a matrix for x positions, and other matrix for the y positions."
   ]
  },
  {
   "cell_type": "code",
   "execution_count": 61,
   "metadata": {},
   "outputs": [],
   "source": [
    "x_axis=[left_border+i*step for i in range(N)]\n",
    "x_matrix=np.tile(x_axis, (N,1))\n",
    "y_axis=[[upper_border-j*step] for j in range(N)]\n",
    "y_matrix=np.tile(y_axis, (1,N))"
   ]
  },
  {
   "cell_type": "code",
   "execution_count": 67,
   "metadata": {},
   "outputs": [],
   "source": [
    "width=ra\n",
    "A0=2\n",
    "Gauss_beam=A0*np.exp(-(x_matrix**2+y_matrix**2)/width**2)"
   ]
  },
  {
   "cell_type": "code",
   "execution_count": 68,
   "metadata": {},
   "outputs": [
    {
     "data": {
      "text/plain": [
       "<matplotlib.colorbar.Colorbar at 0x145d8635908>"
      ]
     },
     "execution_count": 68,
     "metadata": {},
     "output_type": "execute_result"
    },
    {
     "data": {
      "image/png": "[encoded data removed]",
      "text/plain": [
       "<Figure size 432x288 with 2 Axes>"
      ]
     },
     "metadata": {
      "needs_background": "light"
     },
     "output_type": "display_data"
    }
   ],
   "source": [
    "plt.imshow(Gauss_beam)\n",
    "plt.colorbar()"
   ]
  },
  {
   "cell_type": "markdown",
   "metadata": {},
   "source": [
    "I am going to propagate 50mm, and I am going to choose a propagation step of 1$\\mu$m. I also need to adimensionalize this numbers."
   ]
  },
  {
   "cell_type": "code",
   "execution_count": 128,
   "metadata": {},
   "outputs": [],
   "source": [
    "zf=1-3 #First I start with 1mm\n",
    "dz=1e-6\n",
    "zf_a=zf/r\n",
    "dz_a=dz/r\n",
    "\n",
    "#The Fourier space .As I have defined a r unit in the configuration space, the natural unit in the Fourier space is 1/r\n",
    "step_F=1/W\n",
    "\n",
    "#Matrices for the Fourier space. I have to center this coordinate system\n",
    "center_f_x=int((W/2-Ra-da/2)/step)\n",
    "frequency_x=[i*step_F for i in range(-center_f_x,N-center_f_x)]\n",
    "frequency_y=[i*step_F for i in range(int(N/2),int(-N/2),-1)]\n",
    "fx_matrix,fy_matrix=np.meshgrid(frequency_x,frequency_y)"
   ]
  },
  {
   "cell_type": "markdown",
   "metadata": {},
   "source": [
    "In adimensional units the transfer function is rewriten as:\n",
    "\n",
    "$TF=e^{i\\Delta z_a \\sqrt{n_r^2ka^2-4\\pi^2(f_{xa}^2+f_{ya}^2)}}$\n",
    "\n",
    "where $ka=kr$ and $f_{xa}=f_xr$"
   ]
  },
  {
   "cell_type": "code",
   "execution_count": 129,
   "metadata": {},
   "outputs": [],
   "source": [
    "# Transfer function\n",
    "TF=np.exp(1j*dz_a*np.sqrt(n_r**2*ka**2-4*np.pi*(fx_matrix**2+fy_matrix**2)))"
   ]
  },
  {
   "cell_type": "markdown",
   "metadata": {},
   "source": [
    "I am only going to save the power in each fiber at each stage of the propagation. If I save the shape and phase at each step I am going to have an array of shape $512\\times 512 \\times 1000$. \n",
    "\n",
    "The power will be the sum of the intensities at each fiber."
   ]
  },
  {
   "cell_type": "code",
   "execution_count": 153,
   "metadata": {},
   "outputs": [],
   "source": [
    "def power_fibers(Ra,da,x_matrix,y_matrix,simulation):\n",
    "    intensity_f1=np.where(np.hypot(x_matrix,y_matrix)<Ra,simulation,np.zeros(x_matrix.shape))\n",
    "    c_fiber=2*Ra+da\n",
    "    intensity_f2=np.where(np.hypot(x_matrix-c_fiber,y_matrix)<Ra,simulation,np.zeros(x_matrix.shape))\n",
    "    intensity_f1=np.abs(intensity_f1)**2\n",
    "    intensity_f2=np.abs(intensity_f2)**2\n",
    "    return [np.sum(intensity_f1),np.sum(intensity_f2)]"
   ]
  },
  {
   "cell_type": "code",
   "execution_count": 155,
   "metadata": {},
   "outputs": [
    {
     "data": {
      "text/plain": [
       "[4117.732674496479, 0.0005432884545600332]"
      ]
     },
     "execution_count": 155,
     "metadata": {},
     "output_type": "execute_result"
    }
   ],
   "source": [
    "power_fibers(Ra,da,x_matrix,y_matrix,Gauss_beam)"
   ]
  },
  {
   "cell_type": "code",
   "execution_count": null,
   "metadata": {},
   "outputs": [],
   "source": []
  }
 ],
 "metadata": {
  "kernelspec": {
   "display_name": "Python 3",
   "language": "python",
   "name": "python3"
  },
  "language_info": {
   "codemirror_mode": {
    "name": "ipython",
    "version": 3
   },
   "file_extension": ".py",
   "mimetype": "text/x-python",
   "name": "python",
   "nbconvert_exporter": "python",
   "pygments_lexer": "ipython3",
   "version": "3.7.1"
  }
 },
 "nbformat": 4,
 "nbformat_minor": 2
}
